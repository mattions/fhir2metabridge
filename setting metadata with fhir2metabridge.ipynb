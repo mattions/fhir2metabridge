{
 "cells": [
  {
   "cell_type": "code",
   "execution_count": null,
   "id": "c42785ab",
   "metadata": {},
   "outputs": [],
   "source": [
    "!curl https://raw.githubusercontent.com/jared-rozowsky/fhir2metabridge/main/fhir_trisomy_bridge.py > fhir_trisomy_bridge.py"
   ]
  },
  {
   "cell_type": "code",
   "execution_count": null,
   "id": "4ca238ba",
   "metadata": {},
   "outputs": [],
   "source": [
    "# Install requirements\n",
    "!pip install simplejson"
   ]
  },
  {
   "cell_type": "code",
   "execution_count": null,
   "id": "3228af7e",
   "metadata": {},
   "outputs": [],
   "source": [
    "# Set the Value to run the project\n",
    "import getpass"
   ]
  },
  {
   "cell_type": "code",
   "execution_count": null,
   "id": "01f19fa7",
   "metadata": {},
   "outputs": [],
   "source": [
    "cavatica_token = getpass.getpass()"
   ]
  },
  {
   "cell_type": "code",
   "execution_count": null,
   "id": "f1486bca",
   "metadata": {},
   "outputs": [],
   "source": [
    "cavatica_project = getpass.getpass()"
   ]
  },
  {
   "cell_type": "code",
   "execution_count": null,
   "id": "02f230cd",
   "metadata": {},
   "outputs": [],
   "source": [
    "include_fhir_authentication_cookie = getpass.getpass()"
   ]
  },
  {
   "cell_type": "code",
   "execution_count": null,
   "id": "f9eaf8ee",
   "metadata": {},
   "outputs": [],
   "source": [
    "!python fhir_trisomy_bridge.py --cavatica_token $cavatica_token --cavatica_project $cavatica_project --include_fhir_authentication_cookie $include_fhir_authentication_cookie"
   ]
  }
 ],
 "metadata": {
  "kernelspec": {
   "display_name": "Python 3 (ipykernel)",
   "language": "python",
   "name": "python3"
  },
  "language_info": {
   "codemirror_mode": {
    "name": "ipython",
    "version": 3
   },
   "file_extension": ".py",
   "mimetype": "text/x-python",
   "name": "python",
   "nbconvert_exporter": "python",
   "pygments_lexer": "ipython3",
   "version": "3.9.12"
  }
 },
 "nbformat": 4,
 "nbformat_minor": 5
}
